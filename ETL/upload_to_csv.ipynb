{
 "cells": [
  {
   "cell_type": "code",
   "execution_count": 2,
   "id": "c3a2a1f2-df47-447f-92f1-081c20dcd23e",
   "metadata": {},
   "outputs": [],
   "source": [
    "import pandas as pd\n",
    "import pyodbc\n",
    "from sqlalchemy import create_engine\n",
    "import urllib\n",
    "\n",
    "# customer table\n",
    "cust = pd.read_csv(\"C:/Global Retail Sales Analysis/Cleaned Datasets/cleaned_customers.csv\")\n",
    "# drop Unnamed: 0 \n",
    "cust = cust.drop('Unnamed: 0', axis=1)\n",
    "\n",
    "# sales table\n",
    "sales = pd.read_csv(\"C:/Global Retail Sales Analysis/Cleaned Datasets/cleaned_sales.csv\")\n",
    "# drop Unnamed: 0 \n",
    "sales = sales.drop('Unnamed: 0', axis=1)\n",
    "\n",
    "# stores table\n",
    "stores = pd.read_csv(\"C:/Global Retail Sales Analysis/Cleaned Datasets/cleaned_stores.csv\")\n",
    "# drop Unnamed: 0 \n",
    "stores = stores.drop('Unnamed: 0', axis=1)\n",
    "\n",
    "# products table\n",
    "prod = pd.read_csv(\"C:/Global Retail Sales Analysis/Cleaned Datasets/cleaned_products.csv\")\n",
    "# drop Unnamed: 0 \n",
    "prod = prod.drop('Unnamed: 0', axis=1)\n",
    "\n",
    "# exchange rates table\n",
    "rates = pd.read_csv(\"C:/Global Retail Sales Analysis/Cleaned Datasets/cleaned_exchange_rates.csv\")\n",
    "# drop Unnamed: 0 \n",
    "rates = rates.drop('Unnamed: 0', axis=1)\n",
    "\n",
    "server = 'LAPTOP-LT95EFNG\\\\SQLEXPRESS02'\n",
    "database = 'global_electronics_retailer'\n",
    "\n",
    "connection_string = f\"mssql+pyodbc://@{server}/{database}?driver=ODBC+Driver+17+for+SQL+Server&trusted_connection=yes\"\n",
    "engine = create_engine(connection_string)\n",
    "# create a dictionary of dataFrames\n",
    "dataframes = {\n",
    "    'customers': cust,\n",
    "    'sales': sales,\n",
    "    'stores': stores,\n",
    "    'products': prod,\n",
    "    'exchange_rates': rates\n",
    "}\n",
    "\n",
    "# load each dataframe into sql\n",
    "for table_name, df in dataframes.items():\n",
    "    df.to_sql(table_name, con=engine, if_exists='replace', index=False)"
   ]
  }
 ],
 "metadata": {
  "kernelspec": {
   "display_name": "Python 3 (ipykernel)",
   "language": "python",
   "name": "python3"
  },
  "language_info": {
   "codemirror_mode": {
    "name": "ipython",
    "version": 3
   },
   "file_extension": ".py",
   "mimetype": "text/x-python",
   "name": "python",
   "nbconvert_exporter": "python",
   "pygments_lexer": "ipython3",
   "version": "3.13.5"
  }
 },
 "nbformat": 4,
 "nbformat_minor": 5
}
