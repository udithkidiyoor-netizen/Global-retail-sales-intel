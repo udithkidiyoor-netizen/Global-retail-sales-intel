{
 "cells": [
  {
   "cell_type": "code",
   "execution_count": 2,
   "id": "19c61dfb-2708-4fb4-805a-42a44b8039d0",
   "metadata": {},
   "outputs": [
    {
     "name": "stdout",
     "output_type": "stream",
     "text": [
      "Empty DataFrame\n",
      "Columns: [store_key, country, state, square_meters, open_date]\n",
      "Index: []\n",
      "<class 'pandas.core.frame.DataFrame'>\n",
      "RangeIndex: 67 entries, 0 to 66\n",
      "Data columns (total 5 columns):\n",
      " #   Column         Non-Null Count  Dtype         \n",
      "---  ------         --------------  -----         \n",
      " 0   store_key      67 non-null     int64         \n",
      " 1   country        67 non-null     object        \n",
      " 2   state          67 non-null     object        \n",
      " 3   square_meters  67 non-null     float64       \n",
      " 4   open_date      67 non-null     datetime64[ns]\n",
      "dtypes: datetime64[ns](1), float64(1), int64(1), object(2)\n",
      "memory usage: 2.7+ KB\n",
      "None\n",
      "   store_key    country                         state  square_meters  \\\n",
      "0          1  Australia  Australian Capital Territory          595.0   \n",
      "1          2  Australia            Northern Territory          665.0   \n",
      "2          3  Australia               South Australia         2000.0   \n",
      "3          4  Australia                      Tasmania         2000.0   \n",
      "4          5  Australia                      Victoria         2000.0   \n",
      "\n",
      "   open_date  \n",
      "0 2008-01-01  \n",
      "1 2008-01-12  \n",
      "2 2012-01-07  \n",
      "3 2010-01-01  \n",
      "4 2015-12-09  \n"
     ]
    }
   ],
   "source": [
    "import pandas as pd\n",
    "\n",
    "stores = pd.read_csv(\"C:/Datasets/Stores.csv\")\n",
    "\n",
    "stores.columns = stores.columns.str.lower().str.replace(' ', '_')\n",
    "stores.rename(columns={'storekey': 'store_key'}, inplace=True)\n",
    "\n",
    "stores['open_date'] = pd.to_datetime(stores['open_date'])\n",
    "stores['square_meters'] = stores['square_meters'].fillna(0.0)\n",
    "\n",
    "duplicates = stores[stores.duplicated(subset='store_key', keep=False)]\n",
    "print(duplicates)\n",
    "\n",
    "stores.to_csv('cleaned_stores.csv', index=False)\n",
    "\n",
    "print(stores.info())\n",
    "print(stores.head())\n"
   ]
  }
 ],
 "metadata": {
  "kernelspec": {
   "display_name": "Python 3 (ipykernel)",
   "language": "python",
   "name": "python3"
  },
  "language_info": {
   "codemirror_mode": {
    "name": "ipython",
    "version": 3
   },
   "file_extension": ".py",
   "mimetype": "text/x-python",
   "name": "python",
   "nbconvert_exporter": "python",
   "pygments_lexer": "ipython3",
   "version": "3.12.7"
  }
 },
 "nbformat": 4,
 "nbformat_minor": 5
}
